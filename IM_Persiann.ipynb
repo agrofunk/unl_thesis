{
 "metadata": {
  "name": ""
 },
 "nbformat": 3,
 "nbformat_minor": 0,
 "worksheets": [
  {
   "cells": [
    {
     "cell_type": "markdown",
     "metadata": {},
     "source": [
      "### Transformar de .bin pra .tif"
     ]
    },
    {
     "cell_type": "code",
     "collapsed": false,
     "input": [
      "import glob, gdal, os, time, datetime, xuleta\n",
      "import numpy as np\n",
      "import bottleneck as bn"
     ],
     "language": "python",
     "metadata": {},
     "outputs": []
    },
    {
     "cell_type": "code",
     "collapsed": false,
     "input": [
      "ano = 'r14'"
     ],
     "language": "python",
     "metadata": {},
     "outputs": []
    },
    {
     "cell_type": "code",
     "collapsed": false,
     "input": [
      "folder = '/media/denis/GEO/PERSIANN/raw_6h/'\n",
      "folderout = '/media/denis/seagate/PRECIPITATION/PERSIANN/daily/' \n",
      "DUNHA = '/media/denis/GEO/DUNHA0.tif'\n",
      "if not os.path.exists(folderout): os.makedirs(folderout)"
     ],
     "language": "python",
     "metadata": {},
     "outputs": []
    },
    {
     "cell_type": "code",
     "collapsed": false,
     "input": [
      "#Ler os metadatos\n",
      "datum = gdal.Open(DUNHA)\n",
      "geo = datum.GetGeoTransform()\n",
      "proj = datum.GetProjection()\n",
      "col = datum.RasterYSize\n",
      "row = datum.RasterXSize\n",
      "shape = (row,col)\n",
      "driver = gdal.GetDriverByName( 'GTiff' )\n",
      "\n",
      "#lista imagens\n",
      "lista = []\n",
      "for j in glob.glob(folder + '*.bin'):\n",
      "    b = j.split('/')\n",
      "    c = b[-1]\n",
      "    lista.append(c)\n",
      "    lista.sort()\n",
      "    \n",
      "listano = []\n",
      "for i in lista:\n",
      "    if i[5:8] == ano:\n",
      "        listano.append(i)   "
     ],
     "language": "python",
     "metadata": {},
     "outputs": []
    },
    {
     "cell_type": "code",
     "collapsed": false,
     "input": [
      "len(listano)"
     ],
     "language": "python",
     "metadata": {},
     "outputs": []
    },
    {
     "cell_type": "code",
     "collapsed": false,
     "input": [
      "#Transformar\n",
      "x = 0\n",
      "for i in listano:\n",
      "    fid = open(folder + i, 'rb')\n",
      "    dim = np.fromfile(fid, dtype='>f')\n",
      "    dim = dim.astype('float32')    \n",
      "    \n",
      "    # resize to world file and set out path\n",
      "    dim.resize([400,1440])\n",
      "    ########\n",
      "    #dim = np.flipud(dim)\n",
      "    dim = np.roll(dim, -720, axis=1)   \n",
      "    \n",
      "    ######\n",
      "    x+=1\n",
      "    print 'Processed: ' + str(x) + ' of ' + str(len(listano))\n",
      "    im_saida = driver.Create(folderout + i[:-3] + 'tif', \n",
      "                             row, col, 1, gdal.GDT_Float32)\n",
      "    im_saida.SetGeoTransform(geo)\n",
      "    im_saida.SetProjection(proj)\n",
      "    im_saida.GetRasterBand(1).WriteArray(dim)\n",
      "    im_saida, dim = None, None    "
     ],
     "language": "python",
     "metadata": {},
     "outputs": []
    },
    {
     "cell_type": "markdown",
     "metadata": {},
     "source": [
      "### Renomear para Ano mes dia hora"
     ]
    },
    {
     "cell_type": "code",
     "collapsed": false,
     "input": [
      "folder = '/media/denis/seagate/PRECIPITATION/PERSIANN/daily/'\n",
      "folderout = '/media/denis/seagate/PRECIPITATION/PERSIANN/daily_r/'\n",
      "if not os.path.exists(folderout): os.makedirs(folderout)"
     ],
     "language": "python",
     "metadata": {},
     "outputs": []
    },
    {
     "cell_type": "code",
     "collapsed": false,
     "input": [
      "lista = []\n",
      "listadata = []\n",
      "for j in glob.glob(folder + '*.tif'):\n",
      "    b = j.split('/')\n",
      "    c = b[-1]\n",
      "    d = c[-11:-4]\n",
      "    lista.append(c)\n",
      "    listadata.append(d)\n",
      "    lista.sort()\n",
      "    listadata.sort()"
     ],
     "language": "python",
     "metadata": {},
     "outputs": []
    },
    {
     "cell_type": "code",
     "collapsed": false,
     "input": [
      "# RENOMEAR De raw6hrAAJJJHH para raw6hAAAAMMDDHH\n",
      "for i in lista:\n",
      "    #print i[-11:-9] + ' ' + i[-9:-6]\n",
      "    novonome = datetime.datetime.strptime(i, 'raw6hr%y%j' + i[-6:]).strftime('%Y%m%d') + i[-6:]\n",
      "    os.rename(folder + i, folderout + novonome)\n",
      "    print i + ' renomeado para ' + novonome\n",
      "if os.path.exists(folder): shutil.rmtree(folder)    "
     ],
     "language": "python",
     "metadata": {},
     "outputs": []
    },
    {
     "cell_type": "markdown",
     "metadata": {},
     "source": [
      "### Acumular mensalmente"
     ]
    },
    {
     "cell_type": "code",
     "collapsed": false,
     "input": [
      "folder = '/media/denis/seagate/PRECIPITATION/PERSIANN/daily_r/'\n",
      "folderout = '/media/denis/GEO/PERSIANN/daily/'\n",
      "if not os.path.exists(folderout): os.makedirs(folderout)"
     ],
     "language": "python",
     "metadata": {},
     "outputs": []
    },
    {
     "cell_type": "code",
     "collapsed": false,
     "input": [
      "#nova lista de arquivos\n",
      "lista = []\n",
      "listadata = []\n",
      "for j in glob.glob(folder + '*.tif'):\n",
      "    b = j.split('/')\n",
      "    c = b[-1]\n",
      "    d = c[-19:-4]\n",
      "    lista.append(c)\n",
      "    listadata.append(d)\n",
      "    lista.sort()\n",
      "    listadata.sort()\n",
      "    \n",
      "meses = []\n",
      "for i in listadata:\n",
      "    meses.append(i[4:6])\n",
      "    meses.sort()\n",
      "meses = [ii for n,ii in enumerate(meses) if ii not in meses[:n]]\n",
      "\n",
      "dias = []\n",
      "for i in listadata:\n",
      "    dias.append(i[6:8])\n",
      "    dias.sort()\n",
      "dias = [ii for n,ii in enumerate(dias) if ii not in dias[:n]]"
     ],
     "language": "python",
     "metadata": {},
     "outputs": []
    },
    {
     "cell_type": "code",
     "collapsed": false,
     "input": [
      "datum = gdal.Open(folder + lista[0])\n",
      "geo = datum.GetGeoTransform()\n",
      "proj = datum.GetProjection()\n",
      "col = datum.RasterYSize\n",
      "row = datum.RasterXSize\n",
      "shape = (row,col)\n",
      "driver = gdal.GetDriverByName( 'GTiff' )"
     ],
     "language": "python",
     "metadata": {},
     "outputs": []
    },
    {
     "cell_type": "code",
     "collapsed": false,
     "input": [
      "# ACUMULAR DIARIAMENTE #\n",
      "########################\n",
      "start = time.time()\n",
      "for mes in meses:\n",
      "    start2 = time.time()\n",
      "    #print 'Calculando soma do m\u00eas %s para o ano %s. ' %(mes, ano)\n",
      "    for dia in dias:\n",
      "        \n",
      "        toOpen = []\n",
      "        for i in lista:\n",
      "            if i[6:8] == dia:\n",
      "                toOpen.append(i)\n",
      "        toOpen.sort()\n",
      "        \n",
      "        arrays = []\n",
      "        for j in toOpen:\n",
      "            \n",
      "            imagem = gdal.Open(folder + j).ReadAsArray()\n",
      "            imagem = np.where(imagem < -1, np.nan, imagem)\n",
      "            arrays.append(imagem)\n",
      "            arrays2 = np.dstack(arrays)   \n",
      "        \n",
      "        soma = bn.nansum(arrays2, axis=2)\n",
      "    \n",
      "        im_saida = driver.Create(folderout + '20' + ano[1:] +  mes + dia + '.tif', row, col, 1, gdal.GDT_Float32)\n",
      "        im_saida.SetGeoTransform(geo)\n",
      "        im_saida.SetProjection(proj)\n",
      "        im_saida.GetRasterBand(1).WriteArray(soma)\n",
      "        del im_saida, arrays2, arrays, toOpen \n",
      "        print '  total de %.2f minutos' %((time.time() - start2)/60)\n",
      "print 'Work completed! Demorou a eternidade de %.2f' %((time.time() - start)/60)\n",
      "\n",
      "#if os.path.exists(folder): shutil.rmtree(folder)"
     ],
     "language": "python",
     "metadata": {},
     "outputs": []
    },
    {
     "cell_type": "code",
     "collapsed": false,
     "input": [
      "#ACUMULAR MENSALMENTE\n",
      "start = time.time()\n",
      "for mes in meses:\n",
      "    start2 = time.time()\n",
      "    print 'Calculando soma do m\u00eas %s para o ano %s. ' %(mes, ano)\n",
      "    toOpen = []\n",
      "    for i in lista:\n",
      "        if i[4:6] == mes:\n",
      "            toOpen.append(i)\n",
      "    toOpen.sort()\n",
      "    \n",
      "    arrays = []\n",
      "    for j in toOpen:\n",
      "        \n",
      "        imagem = gdal.Open(folder + j).ReadAsArray()\n",
      "        imagem = np.where(imagem < -1, np.nan, imagem)\n",
      "        arrays.append(imagem)\n",
      "        arrays2 = np.dstack(arrays)   \n",
      "    \n",
      "    soma = bn.nansum(arrays2, axis=2)\n",
      "\n",
      "    im_saida = driver.Create(folderout + 'sum' + '20' + ano[1:] + '-' + mes + '.tif', row, col, 1, gdal.GDT_Float32)\n",
      "    im_saida.SetGeoTransform(geo)\n",
      "    im_saida.SetProjection(proj)\n",
      "    im_saida.GetRasterBand(1).WriteArray(soma)\n",
      "    del im_saida, arrays2, arrays, toOpen \n",
      "    print '                               total de %.2f minutos' %((time.time() - start2)/60)\n",
      "print 'Work completed! Demorou a eternidade de %.2f' %((time.time() - start)/60)\n",
      "\n",
      "if os.path.exists(folder): shutil.rmtree(folder)"
     ],
     "language": "python",
     "metadata": {},
     "outputs": []
    },
    {
     "cell_type": "code",
     "collapsed": false,
     "input": [],
     "language": "python",
     "metadata": {},
     "outputs": []
    }
   ],
   "metadata": {}
  }
 ]
}