{
 "cells": [
  {
   "cell_type": "code",
   "execution_count": 1,
   "metadata": {
    "collapsed": false
   },
   "outputs": [],
   "source": [
    "import pandas as pd\n",
    "import numpy as np\n",
    "import matplotlib.pyplot as plt\n",
    "import datetime, scipy, glob, xuleta\n",
    "from pandas import Series\n",
    "from scipy.stats.mstats import *"
   ]
  },
  {
   "cell_type": "code",
   "execution_count": 2,
   "metadata": {
    "collapsed": false
   },
   "outputs": [],
   "source": [
    "hdf = pd.HDFStore('dados/banco_diss.h5', mode='a')"
   ]
  },
  {
   "cell_type": "code",
   "execution_count": 3,
   "metadata": {
    "collapsed": false
   },
   "outputs": [
    {
     "data": {
      "text/plain": [
       "['/base/base_all',\n",
       " '/base/meso2/evi',\n",
       " '/base/meso2/lswi',\n",
       " '/base/meso2/ndi7',\n",
       " '/base/meso2/ndvi',\n",
       " '/base/meso2/ndwi',\n",
       " '/base/meso2/sdi',\n",
       " '/base/meso2/vci',\n",
       " '/base/meso2/vhi',\n",
       " '/base/micro/evi',\n",
       " '/base/micro/lswi',\n",
       " '/base/micro/ndi7',\n",
       " '/base/micro/ndvi',\n",
       " '/base/micro/ndwi',\n",
       " '/base/micro/sdi',\n",
       " '/base/micro/tci',\n",
       " '/base/micro/vci',\n",
       " '/base/micro/vhi',\n",
       " '/base/micro2/evi',\n",
       " '/base/micro2/lswi',\n",
       " '/base/micro2/ndi7',\n",
       " '/base/micro2/ndvi',\n",
       " '/base/micro2/ndwi',\n",
       " '/base/micro2/sdi',\n",
       " '/base/micro2/vci',\n",
       " '/base/micro2/vhi',\n",
       " '/count_micro',\n",
       " '/datas_trabalho',\n",
       " '/ivs/meso/evi',\n",
       " '/ivs/meso/lswi',\n",
       " '/ivs/meso/ndi7',\n",
       " '/ivs/meso/ndvi',\n",
       " '/ivs/meso/ndwi',\n",
       " '/ivs/meso/sdi',\n",
       " '/ivs/meso/vci',\n",
       " '/ivs/meso/vhi',\n",
       " '/ivs/micro/evi',\n",
       " '/ivs/micro/lswi',\n",
       " '/ivs/micro/ndi7',\n",
       " '/ivs/micro/ndvi',\n",
       " '/ivs/micro/ndwi',\n",
       " '/ivs/micro/sdi',\n",
       " '/ivs/micro/vci',\n",
       " '/ivs/micro/vhi',\n",
       " '/spi3_meso']"
      ]
     },
     "execution_count": 3,
     "metadata": {},
     "output_type": "execute_result"
    }
   ],
   "source": [
    "sorted(hdf.keys())"
   ]
  },
  {
   "cell_type": "code",
   "execution_count": 5,
   "metadata": {
    "collapsed": false
   },
   "outputs": [],
   "source": [
    "listaivs = ['evi', 'ndi7', 'ndvi', 'ndwi', 'lswi', 'sdi', 'vci', 'vhi']\n",
    "regioes = ['COCP','NCP','NP','OP']"
   ]
  },
  {
   "cell_type": "markdown",
   "metadata": {},
   "source": [
    "Mann-Kendall\n",
    "------------\n",
    "#### Para testar se existe tendência ou não nas séries"
   ]
  },
  {
   "cell_type": "code",
   "execution_count": 14,
   "metadata": {
    "collapsed": false
   },
   "outputs": [
    {
     "name": "stdout",
     "output_type": "stream",
     "text": [
      "Feito\n"
     ]
    }
   ],
   "source": [
    "#solta um txt\n",
    "\n",
    "f = open('dados/mann_kendal_ivs.txt', 'aw')\n",
    "for i in listaivs:\n",
    "    dados = hdf['/ivs/meso/' + i]\n",
    "    x = pd.to_datetime(dados['data'], format='%Y%j')\n",
    "    for k in regioes:\n",
    "        t,p = scipy.stats.mstats.kendalltau(x,dados[k].tolist())\n",
    "        z = i + ' ' + k + ' ' + str(t) + ' ' + str(p) + '\\n'\n",
    "        f.write(z)\n",
    "print 'Feito'\n",
    "f.close()\n"
   ]
  },
  {
   "cell_type": "code",
   "execution_count": null,
   "metadata": {
    "collapsed": false
   },
   "outputs": [],
   "source": []
  }
 ],
 "metadata": {
  "kernelspec": {
   "display_name": "Python 3",
   "language": "python",
   "name": "python3"
  },
  "language_info": {
   "codemirror_mode": {
    "name": "ipython",
    "version": 3
   },
   "file_extension": ".py",
   "mimetype": "text/x-python",
   "name": "python",
   "nbconvert_exporter": "python",
   "pygments_lexer": "ipython3",
   "version": "3.6.5"
  }
 },
 "nbformat": 4,
 "nbformat_minor": 2
}
