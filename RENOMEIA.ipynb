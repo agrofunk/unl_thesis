{
 "metadata": {
  "name": ""
 },
 "nbformat": 3,
 "nbformat_minor": 0,
 "worksheets": [
  {
   "cells": [
    {
     "cell_type": "markdown",
     "metadata": {},
     "source": [
      "Renomear arquivos\n",
      "-----------------\n",
      "#### Com rela\u00e7\u00e3o \u00e0s datas"
     ]
    },
    {
     "cell_type": "code",
     "collapsed": false,
     "input": [
      "import glob, datetime, os, xuleta"
     ],
     "language": "python",
     "metadata": {},
     "outputs": []
    },
    {
     "cell_type": "code",
     "collapsed": false,
     "input": [
      "folderin = '/media/denis/GEO/DROUGHT_processed/Vegetation_Indices/RAW/sdi/'\n",
      "folderout = '/media/denis/GEO/DROUGHT_processed/Vegetation_Indices/RAW/sdi_r/'\n",
      "\n",
      "\n",
      "if not os.path.exists(folderout): os.makedirs(folderout)"
     ],
     "language": "python",
     "metadata": {},
     "outputs": []
    },
    {
     "cell_type": "code",
     "collapsed": false,
     "input": [
      "lista = xuleta.listfiles(folderin,extension='*.tif')"
     ],
     "language": "python",
     "metadata": {},
     "outputs": []
    },
    {
     "cell_type": "code",
     "collapsed": false,
     "input": [
      "for i in lista:\n",
      "    #print i[-11:-9] + ' ' + i[-9:-6]\n",
      "    novonome = datetime.datetime.strptime(i[:-7], '%Y-%m-%d').strftime('%Y%j') + i[-4:]\n",
      "    os.rename(folderin + i, folderout + novonome)\n",
      "    print i + ' foi renomeado para ' + novonome"
     ],
     "language": "python",
     "metadata": {},
     "outputs": []
    },
    {
     "cell_type": "code",
     "collapsed": false,
     "input": [],
     "language": "python",
     "metadata": {},
     "outputs": []
    }
   ],
   "metadata": {}
  }
 ]
}