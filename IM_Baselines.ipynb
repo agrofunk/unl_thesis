{
 "cells": [
  {
   "cell_type": "markdown",
   "metadata": {},
   "source": [
    "# Calculando as baselines"
   ]
  },
  {
   "cell_type": "code",
   "execution_count": null,
   "metadata": {
    "collapsed": false
   },
   "outputs": [],
   "source": [
    "def baseline(indice,semana,folder,folderout,tabela):\n",
    "    '''\n",
    "    indice -> indice como escrito na pasta de entrada em string\n",
    "    semana -> 01 a 20 em string\n",
    "    folder -> raiz da pasta onde estão os índices de vegetação\n",
    "    folderout -> onde será salvo\n",
    "    tabela -> endereço da tabela onde os headers são s01, s02...\n",
    "              e as datas estão no formato YYYYJJJ\n",
    "    '''\n",
    "    \n",
    "    import glob, gdal, os\n",
    "    import numpy as np\n",
    "    import pandas as pd\n",
    "    import time\n",
    "    import bottleneck as bn\n",
    "    \n",
    "    startTime = time.time()\n",
    "    #cria pasta de saida\n",
    "    if not os.path.exists(folderout): os.makedirs(folderout)\n",
    "        \n",
    "    #lista de imagens da pasta toda\n",
    "    lista = []\n",
    "    for j in glob.glob(folder + '*.tif'):\n",
    "        b = j.split('/')\n",
    "        c = b[-1]\n",
    "        lista.append(c)\n",
    "        lista.sort()\n",
    "    \n",
    "    #adquire metadados da imagem\n",
    "    datum = gdal.Open(folder + lista[0])\n",
    "    geo = datum.GetGeoTransform()\n",
    "    proj = datum.GetProjection()\n",
    "    col = datum.RasterYSize\n",
    "    row = datum.RasterXSize\n",
    "    shape = (row,col)\n",
    "    driver = gdal.GetDriverByName( 'GTiff' )\n",
    "    \n",
    "    \n",
    "    #cria lista de datas a serem processadas com base na tabela\n",
    "    datasanos = pd.read_csv(tabela, dtype=str)\n",
    "    listadatas = datasanos['s'+ semana].tolist() \n",
    "    listadatas = [x for x in listadatas if str(x) != 'nan']\n",
    "    \n",
    "    #arquivos para calculo da media e mediana semanal\n",
    "    toOpen = []\n",
    "    for data in listadatas:\n",
    "        for imagem in lista:\n",
    "            if data == imagem[3:10]: #[:-4], [9:16] , [0:7] , [3:10]\n",
    "                toOpen.append(imagem)\n",
    "    \n",
    "    #abre as imagens e monta um pacotão\n",
    "    arrays = []\n",
    "    for i in toOpen:\n",
    "        imagem = gdal.Open(folder + i).ReadAsArray()\n",
    "        imagem = np.where(imagem < -3 , np.nan, imagem)\n",
    "        arrays.append(imagem)\n",
    "        arrays2 = np.dstack(arrays)  \n",
    "    \n",
    "    #cálculos \n",
    "    media = bn.nanmean(arrays2, axis=2)\n",
    "    mediana = bn.nanmedian(arrays2, axis=2)\n",
    "    stdev = np.std(arrays2, axis=2)\n",
    "    \n",
    "    #Escrever saidas\n",
    "    #mediana\n",
    "    im_saida = driver.Create(folderout + 'mediana' + semana + '.tif', \n",
    "                             row, col, 1, gdal.GDT_Float32)\n",
    "    im_saida.SetGeoTransform(geo)\n",
    "    im_saida.SetProjection(proj)\n",
    "    im_saida.GetRasterBand(1).WriteArray(mediana)\n",
    "    im_saida = None\n",
    "    \n",
    "    #media\n",
    "    im_saida = driver.Create(folderout + 'media' + semana + '.tif', \n",
    "                             row, col, 1, gdal.GDT_Float32)\n",
    "    im_saida.SetGeoTransform(geo)\n",
    "    im_saida.SetProjection(proj)\n",
    "    im_saida.GetRasterBand(1).WriteArray(media)\n",
    "    im_saida = None\n",
    "    \n",
    "    #desvio padrao\n",
    "    im_saida = driver.Create(folderout + 'stdev' + semana + '.tif', \n",
    "                             row, col, 1, gdal.GDT_Float32)\n",
    "    im_saida.SetGeoTransform(geo)\n",
    "    im_saida.SetProjection(proj)\n",
    "    im_saida.GetRasterBand(1).WriteArray(stdev)\n",
    "    im_saida = None\n",
    "    \n",
    "    #Finalizando o processo\n",
    "    mediana, media, imagem, stdev = None, None, None, None\n",
    "    print 'Processing week ' + semana\n",
    "    print 'Images saved in ' + folderout\n",
    "    print 'The process took ', time.time() - startTime, 'seconds'\n",
    "    print ' '\n",
    "    return 'FINISHED!'\n",
    "    "
   ]
  },
  {
   "cell_type": "code",
   "execution_count": null,
   "metadata": {
    "collapsed": false
   },
   "outputs": [],
   "source": [
    "#indice de vegetacao (como nomeado na pasta)\n",
    "indice = 'tci' #ndvi evi lswi ndi7 ...\n",
    "semana = ['01','02','03','04','05','06','07','08',\n",
    "          '09','10','11','12','13','14','15','16',\n",
    "          '17','18','19','20']\n",
    "#/media/denis/GEO/DROUGHT_processed/Vegetation_Indices/RAW/sdi2nd\n",
    "folder = '/media/denis/GEO/DROUGHT_processed/Vegetation_Indices/RAW/tci/' #FILTRADOS ou RAW\n",
    "folderout = '/media/denis/GEO/DROUGHT_processed/Vegetation_Indices/baseline/' + indice + '/'\n",
    "tabela = '/media/denis/GEO/Drought_projetos/TABLES/datas_trabalho.csv'"
   ]
  },
  {
   "cell_type": "code",
   "execution_count": null,
   "metadata": {
    "collapsed": false
   },
   "outputs": [],
   "source": [
    "for i in semana:\n",
    "    baseline(indice,i,folder,folderout,tabela)"
   ]
  },
  {
   "cell_type": "code",
   "execution_count": null,
   "metadata": {
    "collapsed": false
   },
   "outputs": [],
   "source": []
  }
 ],
 "metadata": {
  "kernelspec": {
   "display_name": "Python 3",
   "language": "python",
   "name": "python3"
  },
  "language_info": {
   "codemirror_mode": {
    "name": "ipython",
    "version": 3
   },
   "file_extension": ".py",
   "mimetype": "text/x-python",
   "name": "python",
   "nbconvert_exporter": "python",
   "pygments_lexer": "ipython3",
   "version": "3.6.5"
  }
 },
 "nbformat": 4,
 "nbformat_minor": 2
}
