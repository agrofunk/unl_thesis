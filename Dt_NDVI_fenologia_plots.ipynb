{
 "cells": [
  {
   "cell_type": "markdown",
   "metadata": {},
   "source": [
    "### Definindo máximos e mínimos\n",
    "#### Essa é a parte entosquecida do trabalho\n",
    "Aqui estamos simplesmente carregando as séries temporais de NDVI mean e std por mesorregião. No final tem o esquema que utilizeir para gerar os máximos e mínimos.\n",
    "\n",
    "####CORES\n",
    "bgrc 4102 4103 4104 4106"
   ]
  },
  {
   "cell_type": "code",
   "execution_count": 2,
   "metadata": {
    "collapsed": false
   },
   "outputs": [],
   "source": [
    "import pandas as pd\n",
    "import numpy as np\n",
    "import matplotlib.pyplot as plt\n",
    "import datetime"
   ]
  },
  {
   "cell_type": "code",
   "execution_count": 2,
   "metadata": {
    "collapsed": false
   },
   "outputs": [],
   "source": [
    "#Carrega os dados\n",
    "dados = pd.read_csv('dados/ndvi_compreto.csv', converters={'data':str})\n",
    "maxmin = pd.read_csv('dados/ndvi_mins_max.csv', converters={'data':str})\n",
    "ndvi = pd.merge(dados, maxmin, on='data', how='outer')"
   ]
  },
  {
   "cell_type": "code",
   "execution_count": 4,
   "metadata": {
    "collapsed": false
   },
   "outputs": [],
   "source": [
    "x = pd.to_datetime(ndvi['data'], format='%Y%j')"
   ]
  },
  {
   "cell_type": "code",
   "execution_count": 3,
   "metadata": {
    "collapsed": false
   },
   "outputs": [],
   "source": [
    "# cria o x com as datas, desta forma dá pra plotar as datas nos gráficos\n",
    "# fica bonitinho\n",
    "x = pd.to_datetime(ndvi['data'], format='%Y%j')\n",
    "\n",
    "# faz a coluna virar o index\n",
    "ndvi = ndvi.set_index(ndvi['data'])\n",
    "\n",
    "# apaga a coluna data (OPCIONAL)\n",
    "ndvi = ndvi.drop('data', 1)"
   ]
  },
  {
   "cell_type": "code",
   "execution_count": 5,
   "metadata": {
    "collapsed": false
   },
   "outputs": [],
   "source": [
    "#salva uma tabela\n",
    "#ndvi.to_csv('dados/ndvi_mean_std_minmax.csv')"
   ]
  },
  {
   "cell_type": "code",
   "execution_count": 4,
   "metadata": {
    "collapsed": false
   },
   "outputs": [],
   "source": [
    "# Colocando cada coluna numa lista\n",
    "\n",
    "m2 = ndvi['4102m'].tolist()\n",
    "m3 = ndvi['4103m'].tolist()\n",
    "m4 = ndvi['4104m'].tolist()\n",
    "m6 = ndvi['4106m'].tolist()\n",
    "s2 = ndvi['4102s'].tolist()\n",
    "s3 = ndvi['4103s'].tolist()\n",
    "s4 = ndvi['4104s'].tolist()\n",
    "s6 = ndvi['4106s'].tolist()\n",
    "mm2 = ndvi['m4102_x'].tolist()\n",
    "mm3 = ndvi['m4103_x'].tolist()\n",
    "mm4 = ndvi['m4104_x'].tolist()\n",
    "mm6 = ndvi['m4106_x'].tolist()"
   ]
  },
  {
   "cell_type": "markdown",
   "metadata": {},
   "source": [
    "## Plot de serie temporal com errorbar e dots maximo e minimo\n",
    "### Falta convencionar as cores por regiões para a dissertação toda"
   ]
  },
  {
   "cell_type": "code",
   "execution_count": null,
   "metadata": {
    "collapsed": false
   },
   "outputs": [],
   "source": [
    "def protaANOSAFRANDVI(safra,safras=2):\n",
    "    if safras==3:\n",
    "        xu=130\n",
    "        loc = 4\n",
    "        titulo = 'Safras ' + str(safra) + '/' +  str(safra+1) + ' , ' + str(safra+1) + '/' + str(safra+2) + ' e ' + str(safra+2) + '/' + str(safra+3)\n",
    "    else:\n",
    "        xu=78\n",
    "        loc = 2\n",
    "        titulo = 'Safras ' + str(safra) + '/' +  str(safra+1) + ' e ' + str(safra+1) + '/' + str(safra+2)\n",
    "    xl = 0\n",
    "    n = safra - 2002\n",
    "\n",
    "    ## Aqui é a figura!!!\n",
    "    #########################\n",
    "    figura = plt.figure(figsize=(15, 4.5))\n",
    "    # regiao 4102\n",
    "    plt.errorbar(x,m2,fmt='-', color='b', linewidth=4.0, yerr=s2, errorevery=4, capsize=8, \n",
    "                 elinewidth=3, alpha=0.5, zorder=3, barsabove=True, label='Centro Ocidental')\n",
    "    plt.plot(x,mm2, marker='d',color='b', alpha=0.5, markersize=12, zorder=5)\n",
    "    \n",
    "    #regiao 4103\n",
    "    plt.errorbar(x,m3,fmt='-', color='g', linewidth=4.0, yerr=s3, errorevery=4, capsize=8,\n",
    "                 elinewidth=3, alpha=0.5, zorder=3, barsabove=True, label='Norte Central')\n",
    "    plt.plot(x,mm3, marker='d',color='g', alpha=0.5, markersize=12, zorder=5)\n",
    "    \n",
    "    #regiao 4104\n",
    "    plt.errorbar(x,m4,fmt='-', color='r',linewidth=4.0, yerr=s4, errorevery=4, capsize=8,\n",
    "                 elinewidth=3, alpha=0.5, zorder=3, barsabove=True, label='Norte Pioneiro')\n",
    "    plt.plot(x,mm4, marker='d', color='r', alpha=0.5, markersize=12, zorder=5)\n",
    "    \n",
    "    #regiao 4106\n",
    "    plt.errorbar(x,m6,fmt='-', color='c', linewidth=4.0, yerr=s6, errorevery=4, capsize=8,\n",
    "                 elinewidth=3, alpha=0.5, zorder=3, barsabove=True, label='Oeste')\n",
    "    plt.plot(x,mm6, marker='d', color='c', alpha=0.5, markersize=12, zorder=5)\n",
    "    \n",
    "    \n",
    "    ###propriedades gerais do gráfico\n",
    "    plt.title(titulo,y=0.89, fontsize=16, color = 'k') #backgroundcolor = '#FFFFFF'\n",
    "    plt.grid(True, color = '0.75', linestyle='--', linewidth=0.5, zorder=1)\n",
    "    #plt.gca().patch.set_facecolor('0.97') #não entendi, mas serviu bem #F0F0F5 #F5F5F5 OOOOOUUUU 0 a 1\n",
    "    plt.ylabel('NDVI', fontsize=18)\n",
    "    plt.ylim(0.25,1)\n",
    "    plt.yticks(fontsize=14)\n",
    "    plt.xticks(fontsize=14, rotation=30)\n",
    "    plt.xlim(x[xl+n*46], x[xu+n*46])\n",
    "    plt.legend(loc=loc, fancybox=True, prop={'size':10})\n",
    "    #plt.show()\n",
    "    folder = '/home/denis/Copy/DissDOCS/dissertation/Figures/'\n",
    "    if safras==3:\n",
    "        plt.savefig(folder + 'Fndvi_safra' + str(safra) + '_' + str(safra+3) + '.pdf', bbox_inches='tight', format='pdf')\n",
    "    else:\n",
    "        plt.savefig(folder + 'Fndvi_safra' + str(safra) + '_' + str(safra+2) + '.pdf', bbox_inches='tight', format='pdf')\n",
    "    "
   ]
  },
  {
   "cell_type": "code",
   "execution_count": null,
   "metadata": {
    "collapsed": false
   },
   "outputs": [],
   "source": [
    "def protaANOSAFRA2GRAPH(safra):\n",
    "    xu = 78\n",
    "    xl = 0\n",
    "    n = safra - 2002\n",
    "    titulo = 'Safras ' + str(safra) + '/' +  str(safra+1) + ' e ' + str(safra+1) + '/' + str(safra+2)\n",
    "    titulo2 = 'Safras ' + str(safra+2) + '/' +  str(safra+3) + ' e ' + str(safra+3) + '/' + str(safra+4)\n",
    "    f, (ax1,ax2) = plt.subplots(1,2, sharey=True, figsize=(15, 4.5))\n",
    "    ## Aqui é a figura!!!\n",
    "    linewidth=3\n",
    "    elinewidth=2\n",
    "    \n",
    "    \n",
    "    \n",
    "    ##### PLOT 1 ##### \n",
    "    \n",
    "    # regiao 4102\n",
    "    \n",
    "    ax1.errorbar(x,m2,fmt='-', color='b', yerr=s2, linewidth=linewidth, errorevery=4, capsize=8, \n",
    "                 elinewidth=elinewidth, alpha=0.5, zorder=3, barsabove=True, label='Centro Ocidental')\n",
    "    ax1.plot(x,mm2, marker='d',color='b', alpha=0.5, markersize=12, zorder=5)\n",
    "    \n",
    "    #regiao 4103\n",
    "    ax1.errorbar(x,m3,fmt='-', color='g', yerr=s3, linewidth=linewidth, errorevery=4, capsize=8,\n",
    "                 elinewidth=elinewidth, alpha=0.5, zorder=3, barsabove=True, label='Norte Central')\n",
    "    ax1.plot(x,mm3, marker='d',color='g', alpha=0.5, markersize=12, zorder=5)\n",
    "    \n",
    "    #regiao 4104\n",
    "    ax1.errorbar(x,m4,fmt='-', color='r', yerr=s4, linewidth=linewidth, errorevery=4, capsize=8,\n",
    "                 elinewidth=elinewidth, alpha=0.5, zorder=3, barsabove=True, label='Norte Pioneiro')\n",
    "    ax1.plot(x,mm4, marker='d', color='r', alpha=0.5, markersize=12, zorder=5)\n",
    "    \n",
    "    #regiao 4106\n",
    "    ax1.errorbar(x,m6,fmt='-', color='c',  yerr=s6, linewidth=linewidth, errorevery=4, capsize=8,\n",
    "                 elinewidth=elinewidth, alpha=0.5, zorder=3, barsabove=True, label='Oeste')\n",
    "    ax1.plot(x,mm6, marker='d', color='c', alpha=0.5, markersize=12, zorder=5)\n",
    "    \n",
    "\n",
    "    ###propriedades gerais do gráfico\n",
    "    ax1.set_title(titulo,y=0.89, fontsize=17, color = 'k', x=0.7) #backgroundcolor = '#FFFFFF'\n",
    "    #plt.grid(b='on', c='k', alpha=0.9)\n",
    "    ax1.grid(True, color='0.75', linestyle='--', linewidth=0.5, zorder=1)\n",
    "    ax1.set_ylim(0.2,1)\n",
    "    ax1.set_xlim(x[xl+n*46], x[xu+n*46])\n",
    "    #ax1.legend(loc=2, fancybox=True)\n",
    "\n",
    "    \n",
    "    ##### PLOT 2 #####    \n",
    "    \n",
    "    # regiao 4102\n",
    "    \n",
    "    ax2.errorbar(x,m2,fmt='-', color='b', linewidth=linewidth, yerr=s2, errorevery=4, capsize=8, \n",
    "                 elinewidth=elinewidth, alpha=0.5, zorder=3, barsabove=True, label='Centro Ocidental')\n",
    "    ax2.plot(x,mm2, marker='d',color='b', alpha=0.5, markersize=12, zorder=5)\n",
    "    \n",
    "    #regiao 4103\n",
    "    ax2.errorbar(x,m3,fmt='-', color='g', linewidth=linewidth, yerr=s3, errorevery=4, capsize=8,\n",
    "                 elinewidth=elinewidth, alpha=0.5, zorder=3, barsabove=True, label='Norte Central')\n",
    "    ax2.plot(x,mm3, marker='d',color='g', alpha=0.5, markersize=12, zorder=5)\n",
    "    \n",
    "    #regiao 4104\n",
    "    ax2.errorbar(x,m4,fmt='-', color='r',linewidth=linewidth, yerr=s4, errorevery=4, capsize=8,\n",
    "                 elinewidth=elinewidth, alpha=0.5, zorder=3, barsabove=True, label='Norte Pioneiro')\n",
    "    ax2.plot(x,mm4, marker='d', color='r', alpha=0.5, markersize=12, zorder=5)\n",
    "    \n",
    "    #regiao 4106\n",
    "    ax2.errorbar(x,m6,fmt='-', color='c', linewidth=linewidth, yerr=s6, errorevery=4, capsize=8,\n",
    "                 elinewidth=elinewidth, alpha=0.5, zorder=3, barsabove=True, label='Oeste')\n",
    "    ax2.plot(x,mm6, marker='d', color='c', alpha=0.5, markersize=12, zorder=5)\n",
    "    \n",
    "    \n",
    "    ###propriedades gerais do gráfico\n",
    "    ax2.set_title(titulo2,y=0.89, fontsize=17, color = 'k', x=0.7) #backgroundcolor = '#FFFFFF'\n",
    "    #plt.grid(b='on', c='k', alpha=0.9)\n",
    "    ax2.grid(True, color = '0.75', linestyle='--', linewidth=0.5, zorder=1)\n",
    "    ax2.set_ylim(0.2,1)\n",
    "    ax2.set_xlim(x[xl+(n+2)*46], x[xu+(n+2)*46])\n",
    "    \n",
    "    #### Mais algumas propriedades gerais dos plots\n",
    "    f.text(0.0, 0.6, 'NDVI', fontsize=16, va='center', rotation='vertical')\n",
    "    ax2.legend(loc=2, fancybox=True, prop={'size':10})\n",
    "    \n",
    "    plt.setp(ax1.get_xticklabels(), rotation=45)\n",
    "    plt.setp(ax2.get_xticklabels(), rotation=45)\n",
    "    plt.tight_layout()\n",
    "    \n",
    "    #plt.show()\n",
    "    folder = '/home/denis/Copy/DissDOCS/dissertation/Figures/'\n",
    "    plt.savefig(folder + 'Fndvi_safra' + str(safra) + '_' + str(safra+4) + '.pdf', bbox_inches='tight', format='pdf')"
   ]
  },
  {
   "cell_type": "code",
   "execution_count": null,
   "metadata": {
    "collapsed": false
   },
   "outputs": [],
   "source": [
    "#protaANOSAFRA2GRAPH(2002)\n",
    "#protaANOSAFRA2GRAPH(2006)\n",
    "#protaANOSAFRANDVI(2010,safras=3) #terei q customizar pra 3 anos"
   ]
  },
  {
   "cell_type": "markdown",
   "metadata": {},
   "source": [
    "##Localizando mínimos e máximos por ano safra\n",
    "###Tem que ter a lista de regiões de interesse\n",
    "#### as 'datain' são tipicamente 20XX249 e 'datafin' 20XY041\n",
    "Talvez seja necessário pensar numa forma melhor de .append, tá muito trabalhoso pra deixar a tabela no jeito."
   ]
  },
  {
   "cell_type": "code",
   "execution_count": null,
   "metadata": {
    "collapsed": false
   },
   "outputs": [],
   "source": [
    "#regioes de interesse\n",
    "#regioes = ['4101m','4102m','4103m','4104m','4106m','4107m','4108m']\n",
    "regioes = ['4102m','4103m','4104m','4106m']"
   ]
  },
  {
   "cell_type": "code",
   "execution_count": null,
   "metadata": {
    "collapsed": false
   },
   "outputs": [],
   "source": [
    "def maxmins(datain, datafin):\n",
    "    '''\n",
    "    Tem que ter a lista de regioes jah criada com o nome regioes\n",
    "    As datasin e datafin entram como strings e.g.('2002249' e '2003041')\n",
    "    '''\n",
    "    lminimo = []\n",
    "    lmaximo = []\n",
    "    for regiao in regioes:\n",
    "        locais_minimos = np.argmin(ndvimean.loc[datain:datafin,regiao], axis=0)\n",
    "        locais_maximos = np.argmax(ndvimean.loc[datain:datafin,regiao], axis=0)\n",
    "        lminimo.append(locais_minimos)\n",
    "        lmaximo.append(locais_maximos)\n",
    "        lmaximo.sort()\n",
    "        lminimo.sort()\n",
    "    vminimo = np.min(ndvimean.loc[datain:datafin,:])\n",
    "    vmaximo = np.min(ndvimean.loc[datain:datafin,:])\n",
    "    return zip(regioes,lminimo,vminimo,lmaximo,vmaximo)"
   ]
  },
  {
   "cell_type": "code",
   "execution_count": null,
   "metadata": {
    "collapsed": false
   },
   "outputs": [],
   "source": [
    "ano0203 = maxmins('2002249', '2003041')\n",
    "ano0304 = maxmins('2003249', '2004041')\n",
    "ano0405 = maxmins('2004249', '2005041')\n",
    "ano0506 = maxmins('2005249', '2006041')\n",
    "ano0607 = maxmins('2006249', '2007041')\n",
    "ano0708 = maxmins('2007249', '2008041')\n",
    "ano0809 = maxmins('2008249', '2009041')\n",
    "ano0910 = maxmins('2009249', '2010041')\n",
    "ano1011 = maxmins('2010249', '2011041')\n",
    "ano1112 = maxmins('2011249', '2012041')"
   ]
  },
  {
   "cell_type": "code",
   "execution_count": null,
   "metadata": {
    "collapsed": false
   },
   "outputs": [],
   "source": [
    "datas = pd.DataFrame(ano0203)"
   ]
  },
  {
   "cell_type": "code",
   "execution_count": null,
   "metadata": {
    "collapsed": false
   },
   "outputs": [],
   "source": [
    "listanos = ['ano0304','ano0405', 'ano0506','ano0607','ano0708','ano0809','ano0910', 'ano1011','ano1112']"
   ]
  },
  {
   "cell_type": "code",
   "execution_count": null,
   "metadata": {
    "collapsed": false
   },
   "outputs": [],
   "source": [
    "datas = datas.append(ano1112)"
   ]
  },
  {
   "cell_type": "code",
   "execution_count": null,
   "metadata": {
    "collapsed": false
   },
   "outputs": [],
   "source": [
    "#datas.to_csv('datasmin_max_0203-1112.csv')"
   ]
  },
  {
   "cell_type": "markdown",
   "metadata": {},
   "source": [
    "### Autocorrelation"
   ]
  },
  {
   "cell_type": "code",
   "execution_count": null,
   "metadata": {
    "collapsed": false
   },
   "outputs": [],
   "source": [
    "import statsmodels.tsa.stattools\n",
    "from statsmodels.graphics.tsaplots import *"
   ]
  },
  {
   "cell_type": "code",
   "execution_count": null,
   "metadata": {
    "collapsed": false
   },
   "outputs": [],
   "source": [
    "plt.figure(figsize=(15, 4.5))\n",
    "\n",
    "plt.plot(statsmodels.tsa.stattools.acf(m2, nlags=55), color='b', linewidth=4.0, alpha=0.7,  label='Centro Ocidental')\n",
    "plt.plot(statsmodels.tsa.stattools.acf(m3, nlags=55), color='g', linewidth=4.0, alpha=0.7,  label='Norte Central')\n",
    "plt.plot(statsmodels.tsa.stattools.acf(m4, nlags=55), color='r', linewidth=4.0, alpha=0.7,  label='Norte Pioneiro')\n",
    "plt.plot(statsmodels.tsa.stattools.acf(m6, nlags=55), color='c', linewidth=4.0, alpha=0.7,  label='Oeste')\n",
    "\n",
    "plt.title(u'Função de autocorrelação',y=0.89, fontsize=20, color = 'k') #backgroundcolor = '#FFFFFF'\n",
    "plt.grid(True, color = '0.75', linestyle='--', linewidth=0.5, zorder=1)\n",
    "#plt.gca().patch.set_facecolor('0.97') #não entendi, mas serviu bem #F0F0F5 #F5F5F5 OOOOOUUUU 0 a 1\n",
    "plt.ylabel('ACF', x=0.4, fontsize=18)\n",
    "plt.yticks(fontsize=14)\n",
    "plt.xticks(fontsize=14)\n",
    "plt.xlim(0,55)\n",
    "plt.axhline(1.96/(len(m2)**0.45), linewidth=1, alpha=0.5, color='k')\n",
    "plt.axhline(-1.96/(len(m2)**0.45), linewidth=1, alpha=0.5, color='k')\n",
    "plt.xlabel(u'Períodos de 8 dias', fontsize=18)\n",
    "plt.legend(loc='best', fancybox=True, prop={'size':14})\n",
    "plt.tight_layout()\n",
    "    \n",
    "plt.show()\n",
    "#folder = '/home/denis/Copy/DissDOCS/dissertation/Figures/'\n",
    "#plt.savefig(folder + 'Facf_ndvi.pdf', bbox_inches='tight', format='pdf')\n"
   ]
  }
 ],
 "metadata": {
  "kernelspec": {
   "display_name": "Python 2",
   "language": "python",
   "name": "python2"
  },
  "language_info": {
   "codemirror_mode": {
    "name": "ipython",
    "version": 3
   },
   "file_extension": ".py",
   "mimetype": "text/x-python",
   "name": "python",
   "nbconvert_exporter": "python",
   "pygments_lexer": "ipython3",
   "version": "3.5.2"
  }
 },
 "nbformat": 4,
 "nbformat_minor": 2
}
