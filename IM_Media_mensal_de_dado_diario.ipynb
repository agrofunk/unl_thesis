{
 "metadata": {
  "name": ""
 },
 "nbformat": 3,
 "nbformat_minor": 0,
 "worksheets": [
  {
   "cells": [
    {
     "cell_type": "markdown",
     "metadata": {},
     "source": [
      "###Estatisticas mensais\n",
      "#### nome da imagem : TMI_L3_DY_SOILM3_V001_20140916.tif"
     ]
    },
    {
     "cell_type": "code",
     "collapsed": false,
     "input": [
      "import glob, gdal, os, time\n",
      "import numpy as np\n",
      "import bottleneck as bn"
     ],
     "language": "python",
     "metadata": {},
     "outputs": []
    },
    {
     "cell_type": "code",
     "collapsed": false,
     "input": [
      "folder = '/media/denis/GEO/SOILMOISTURE/TMI/NT/'"
     ],
     "language": "python",
     "metadata": {},
     "outputs": []
    },
    {
     "cell_type": "code",
     "collapsed": false,
     "input": [
      "lista = []\n",
      "listadata = []\n",
      "for j in glob.glob(folder + '*.tif'):\n",
      "    b = j.split('/')\n",
      "    c = b[-1]\n",
      "    d = c[22:30]\n",
      "    lista.append(c)\n",
      "    listadata.append(d)\n",
      "    lista.sort()\n",
      "    listadata.sort()\n",
      "    #TMI_L3_DY_SOILM3_V001_19971207.tif"
     ],
     "language": "python",
     "metadata": {},
     "outputs": []
    },
    {
     "cell_type": "code",
     "collapsed": false,
     "input": [
      "anos = []\n",
      "for i in listadata:\n",
      "    anos.append(str(i[0:4]))\n",
      "    anos.sort()\n",
      "anos = [ii for n,ii in enumerate(anos) if ii not in anos[:n]]      "
     ],
     "language": "python",
     "metadata": {},
     "outputs": []
    },
    {
     "cell_type": "code",
     "collapsed": false,
     "input": [
      "meses = []\n",
      "for i in listadata:\n",
      "    meses.append(i[4:6])\n",
      "    meses.sort()\n",
      "meses = [ii for n,ii in enumerate(meses) if ii not in meses[:n]]"
     ],
     "language": "python",
     "metadata": {},
     "outputs": []
    },
    {
     "cell_type": "code",
     "collapsed": false,
     "input": [
      "dias = []\n",
      "for i in listadata:\n",
      "    dias.append(str(i[6:9]))\n",
      "    dias.sort()\n",
      "dias = [ii for n,ii in enumerate(dias) if ii not in dias[:n]]"
     ],
     "language": "python",
     "metadata": {},
     "outputs": []
    },
    {
     "cell_type": "code",
     "collapsed": false,
     "input": [
      "datum = gdal.Open(folder + lista[0])\n",
      "geo = datum.GetGeoTransform()\n",
      "proj = datum.GetProjection()\n",
      "col = datum.RasterYSize\n",
      "row = datum.RasterXSize\n",
      "shape = (row,col)\n",
      "driver = gdal.GetDriverByName( 'GTiff' )"
     ],
     "language": "python",
     "metadata": {},
     "outputs": []
    },
    {
     "cell_type": "code",
     "collapsed": false,
     "input": [
      "def mensalmean(ano):\n",
      "    folderout = folder[:-1] + '-MM/' #cria a pasta de saida \n",
      "    if not os.path.exists(folderout):\n",
      "        os.makedirs(folderout) \n",
      "    start = time.time()\n",
      "    \n",
      "    imgsano = []\n",
      "    for y in lista:\n",
      "        if y[22:26] == ano:\n",
      "            imgsano.append(y)\n",
      "    \n",
      "    for mes in meses:\n",
      "        toOpen = []\n",
      "        for i in imgsano:\n",
      "            if i[26:28] == mes: #pesca o mes\n",
      "                toOpen.append(i)\n",
      "            toOpen.sort()\n",
      "        \n",
      "        arrays = []\n",
      "        for j in toOpen:\n",
      "            imagem = gdal.Open(folder + j).ReadAsArray()\n",
      "            imagem = np.where(imagem < -100, np.nan, imagem)\n",
      "            arrays.append(imagem)\n",
      "            arrays2 = np.dstack(arrays)   \n",
      "        media = sp.nanmean(arrays2, axis=2)\n",
      "        xuleta.ArrayToTif\n",
      "            \n",
      "        #write imagem!\n",
      "        im_saida = driver.Create(folderout + 'mean' + ano + '-' + mes + '.tif', row, col, 1, gdal.GDT_Float32)\n",
      "        im_saida.SetGeoTransform(geo)\n",
      "        im_saida.SetProjection(proj)\n",
      "        im_saida.GetRasterBand(1).WriteArray(media)\n",
      "        del im_saida, arrays2, arrays\n",
      "        print 'Calculando m\u00e9dia do m\u00eas %s para o ano %s. ' %(mes, ano)\n",
      "    print 'work completed after %.2f minutes' %((time.time() - start)/60)"
     ],
     "language": "python",
     "metadata": {},
     "outputs": []
    },
    {
     "cell_type": "code",
     "collapsed": false,
     "input": [
      "ano2 = anos[1:]"
     ],
     "language": "python",
     "metadata": {},
     "outputs": []
    },
    {
     "cell_type": "code",
     "collapsed": false,
     "input": [
      "for ano in ano2:\n",
      "    mensalmean(ano)"
     ],
     "language": "python",
     "metadata": {},
     "outputs": []
    }
   ],
   "metadata": {}
  }
 ]
}