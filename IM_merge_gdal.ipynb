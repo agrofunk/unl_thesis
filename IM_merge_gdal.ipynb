{
 "metadata": {
  "name": ""
 },
 "nbformat": 3,
 "nbformat_minor": 0,
 "worksheets": [
  {
   "cells": [
    {
     "cell_type": "code",
     "collapsed": false,
     "input": [
      "'''\n",
      "gdal_merge.py -ul_lr -57.7350269117 -20.0 -42.57 -30.0015 -separate -of GTiff -o \n",
      "    /media/denis/GEO/DROUGHT_processed/Xtestes/as3.tif \n",
      "    /media/denis/GEO/DROUGHT_processed/PRECIPITATION/pci/pci_2003-01.tif \n",
      "    /media/denis/GEO/DROUGHT_processed/Vegetation_Indices/RAW/tci/tci2003001.tif \n",
      "    /media/denis/GEO/DROUGHT_processed/Vegetation_Indices/FILTRADOS/vci/vci2003001.tif\n",
      "\n",
      "HELP!\n",
      "http://gis.stackexchange.com/questions/118987/calling-gdal-merge-py-into-another-python-script-running-gdal-processes\n",
      "'''"
     ],
     "language": "python",
     "metadata": {},
     "outputs": []
    },
    {
     "cell_type": "code",
     "collapsed": false,
     "input": [
      "import os, glob, datetime, time"
     ],
     "language": "python",
     "metadata": {},
     "outputs": [],
     "prompt_number": 35
    },
    {
     "cell_type": "markdown",
     "metadata": {},
     "source": [
      "#### Renomeando"
     ]
    },
    {
     "cell_type": "code",
     "collapsed": false,
     "input": [
      "\n",
      "foldertci = '/media/denis/GEO/DROUGHT_processed/Vegetation_Indices/RAW/tci/'\n",
      "foldervci = '/media/denis/GEO/DROUGHT_processed/Vegetation_Indices/FILTRADOS/vci/'\n",
      "sufixo = '_g/'\n",
      "\n",
      "\n",
      "\n",
      "###########\n",
      "ftciout = foldertci[:-1] + sufixo\n",
      "fvciout = foldervci[:-1] + sufixo\n",
      "\n",
      "if not os.path.exists(ftciout): os.makedirs(ftciout)\n",
      "if not os.path.exists(fvciout): os.makedirs(fvciout)"
     ],
     "language": "python",
     "metadata": {},
     "outputs": []
    },
    {
     "cell_type": "code",
     "collapsed": false,
     "input": [
      "lista = []\n",
      "for j in glob.glob(foldervci + '*.tif'):\n",
      "    b = j.split('/')\n",
      "    c = b[-1]\n",
      "    lista.append(c)\n",
      "    lista.sort()\n",
      "lista = [ii for n,ii in enumerate(lista) if ii not in lista[:n]]"
     ],
     "language": "python",
     "metadata": {},
     "outputs": []
    },
    {
     "cell_type": "code",
     "collapsed": false,
     "input": [
      "'''\n",
      "for i in lista:\n",
      "    #print i[-11:-9] + ' ' + i[-9:-6]\n",
      "    novonome = datetime.datetime.strptime(i, 'vci%Y%j' + i[-4:]).strftime('vci%Y-%m-%d') + i[-4:]\n",
      "    os.rename(foldervci + i, fvciout + novonome)\n",
      "    print i + ' foi renomeado para ' + novonome"
     ],
     "language": "python",
     "metadata": {},
     "outputs": []
    },
    {
     "cell_type": "markdown",
     "metadata": {},
     "source": [
      "### MERGEando as imagens"
     ]
    },
    {
     "cell_type": "code",
     "collapsed": false,
     "input": [
      "folderout = '/media/denis/GEO/DROUGHT_processed/Vegetation_Indices/RAW/pacote/'\n",
      "foldertci = '/media/denis/GEO/DROUGHT_processed/Vegetation_Indices/RAW/tci_g/'\n",
      "foldervci = '/media/denis/GEO/DROUGHT_processed/Vegetation_Indices/FILTRADOS/vci_g/'\n",
      "folderpci = '/media/denis/GEO/DROUGHT_processed/PRECIPITATION/pci/'\n",
      "\n",
      "if not os.path.exists(folderout): os.makedirs(folderout)"
     ],
     "language": "python",
     "metadata": {},
     "outputs": [],
     "prompt_number": 67
    },
    {
     "cell_type": "code",
     "collapsed": false,
     "input": [
      "def listfiles(folder):\n",
      "    listname = []\n",
      "    for j in glob.glob(folder + '*.tif'):\n",
      "        b = j.split('/')\n",
      "        c = b[-1]\n",
      "        listname.append(c)\n",
      "    listname.sort()\n",
      "    listname = [ii for n,ii in enumerate(listname) if ii not in listname[:n]]\n",
      "    return listname"
     ],
     "language": "python",
     "metadata": {},
     "outputs": [],
     "prompt_number": 68
    },
    {
     "cell_type": "code",
     "collapsed": false,
     "input": [
      "listavci = listfiles(foldervci)\n",
      "listatci = listfiles(foldertci)\n",
      "listapci = listfiles(folderpci)"
     ],
     "language": "python",
     "metadata": {},
     "outputs": [],
     "prompt_number": 69
    },
    {
     "cell_type": "code",
     "collapsed": false,
     "input": [
      "f = open(\"dados/comandos.txt\",\"w\")"
     ],
     "language": "python",
     "metadata": {},
     "outputs": [],
     "prompt_number": 1
    },
    {
     "cell_type": "code",
     "collapsed": false,
     "input": [
      "for vci in listavci:\n",
      "    for tci in listatci:\n",
      "        if vci[3:] == tci[3:]:\n",
      "            for pci in listapci: #mes pci[-6:-4]\n",
      "                if vci[-14:-7] == pci[-11:-4]:\n",
      "                    #print 'merging ' + pci + ' ' + vci + ' ' + tci\n",
      "                    x = 'gdal_merge.py -ul_lr -57.7350269117 -20.0 -42.57 -30.0015 -separate -of GTiff -o ' +  folderout + tci[3:] + ' ' + foldervci + vci + ' ' + foldertci + tci + ' ' + folderpci + pci + '\\n'\n",
      "                    \n",
      "                    f.write(x)"
     ],
     "language": "python",
     "metadata": {},
     "outputs": [
      {
       "ename": "NameError",
       "evalue": "name 'listavci' is not defined",
       "output_type": "pyerr",
       "traceback": [
        "\u001b[0;31m---------------------------------------------------------------------------\u001b[0m\n\u001b[0;31mNameError\u001b[0m                                 Traceback (most recent call last)",
        "\u001b[0;32m<ipython-input-2-d01035734364>\u001b[0m in \u001b[0;36m<module>\u001b[0;34m()\u001b[0m\n\u001b[0;32m----> 1\u001b[0;31m \u001b[0;32mfor\u001b[0m \u001b[0mvci\u001b[0m \u001b[0;32min\u001b[0m \u001b[0mlistavci\u001b[0m\u001b[0;34m:\u001b[0m\u001b[0;34m\u001b[0m\u001b[0m\n\u001b[0m\u001b[1;32m      2\u001b[0m     \u001b[0;32mfor\u001b[0m \u001b[0mtci\u001b[0m \u001b[0;32min\u001b[0m \u001b[0mlistatci\u001b[0m\u001b[0;34m:\u001b[0m\u001b[0;34m\u001b[0m\u001b[0m\n\u001b[1;32m      3\u001b[0m         \u001b[0;32mif\u001b[0m \u001b[0mvci\u001b[0m\u001b[0;34m[\u001b[0m\u001b[0;36m3\u001b[0m\u001b[0;34m:\u001b[0m\u001b[0;34m]\u001b[0m \u001b[0;34m==\u001b[0m \u001b[0mtci\u001b[0m\u001b[0;34m[\u001b[0m\u001b[0;36m3\u001b[0m\u001b[0;34m:\u001b[0m\u001b[0;34m]\u001b[0m\u001b[0;34m:\u001b[0m\u001b[0;34m\u001b[0m\u001b[0m\n\u001b[1;32m      4\u001b[0m             \u001b[0;32mfor\u001b[0m \u001b[0mpci\u001b[0m \u001b[0;32min\u001b[0m \u001b[0mlistapci\u001b[0m\u001b[0;34m:\u001b[0m \u001b[0;31m#mes pci[-6:-4]\u001b[0m\u001b[0;34m\u001b[0m\u001b[0m\n\u001b[1;32m      5\u001b[0m                 \u001b[0;32mif\u001b[0m \u001b[0mvci\u001b[0m\u001b[0;34m[\u001b[0m\u001b[0;34m-\u001b[0m\u001b[0;36m14\u001b[0m\u001b[0;34m:\u001b[0m\u001b[0;34m-\u001b[0m\u001b[0;36m7\u001b[0m\u001b[0;34m]\u001b[0m \u001b[0;34m==\u001b[0m \u001b[0mpci\u001b[0m\u001b[0;34m[\u001b[0m\u001b[0;34m-\u001b[0m\u001b[0;36m11\u001b[0m\u001b[0;34m:\u001b[0m\u001b[0;34m-\u001b[0m\u001b[0;36m4\u001b[0m\u001b[0;34m]\u001b[0m\u001b[0;34m:\u001b[0m\u001b[0;34m\u001b[0m\u001b[0m\n",
        "\u001b[0;31mNameError\u001b[0m: name 'listavci' is not defined"
       ]
      }
     ],
     "prompt_number": 2
    },
    {
     "cell_type": "code",
     "collapsed": false,
     "input": [],
     "language": "python",
     "metadata": {},
     "outputs": []
    }
   ],
   "metadata": {}
  }
 ]
}