{
 "cells": [
  {
   "cell_type": "code",
   "execution_count": 1,
   "metadata": {
    "collapsed": false
   },
   "outputs": [],
   "source": [
    "def plotcompara(iv,ano,micro,out,save=False):\n",
    "    \n",
    "    #importa pacotes\n",
    "    import pandas as pd\n",
    "    import numpy as np\n",
    "    import matplotlib.pyplot as plt\n",
    "    import os\n",
    "    import scipy.stats.mstats as sm\n",
    "    from sklearn import preprocessing\n",
    "    \n",
    "    #cria o diretório de saída\n",
    "    if not os.path.exists(out): os.makedirs(out)\n",
    "    \n",
    "    #Carregar dados\n",
    "    datasmin = pd.read_hdf(banco, 'datas_min_micro')\n",
    "    dados = pd.read_hdf(banco, 'ivs/micro/' + iv, converters={'data':str})\n",
    "    base = pd.read_hdf(banco, 'base/micro2/' + iv)\n",
    "    \n",
    "    # seta o índice para a base e datasmin\n",
    "    base = base.set_index('period')\n",
    "    datasmin = datasmin.set_index('year')\n",
    "    \n",
    "    #cria dicionario da microrregiao\n",
    "    dicio = datasmin[micro].to_dict()\n",
    "    \n",
    "    #data inicial e final da serie de IV\n",
    "    ini = dados[dados['data'] == dicio[ano]].index.tolist()\n",
    "    inifin = [ini[0],ini[0]+20]\n",
    "    \n",
    "    #as series\n",
    "    a = dados[micro][inifin[0]:inifin[1]].tolist()\n",
    "    a = np.asarray(a)\n",
    "    b = base[micro]\n",
    "    \n",
    "    L = np.argmax(b) - np.argmax(a) #- 1\n",
    "    \n",
    "    if iv == 'vci':\n",
    "        L -= 1\n",
    "    a = dados[micro][inifin[0]-L:inifin[1]-L]\n",
    "        \n",
    "    #PLOTANDO\n",
    "    plt.figure(figsize=(9,6))\n",
    "    plt.plot(a, linewidth=3, color='k', alpha=0.7, label=iv.upper() + ' safra')\n",
    "    plt.plot(b, linewidth=3, color='0.25', alpha=0.5, label=iv.upper() + ' base')\n",
    "    plt.fill_between(np.arange(0,len(a),1),a,b, where=a>b, color='0.55', hatch='-',alpha=0.73)\n",
    "    plt.fill_between(np.arange(0,len(a),1),a,b, where=b>a, color='0.35', hatch='.', alpha=0.735)\n",
    "    \n",
    "    plt.title(str(iv).upper() + ' ' + micro + ' safra ' + str(ano) + '/' + str(int(ano)+1), fontsize=16, y=0.935, x=0.35)\n",
    "    plt.axhline(y=0, color='k')\n",
    "    \n",
    "    ymin = min(a.min(),b.min())\n",
    "    ymax = max(a.max(),b.max())\n",
    "\n",
    "    plt.ylim(ymin*.95,ymax*1.05)\n",
    "    \n",
    "    plt.legend(loc=4, fancybox=True)\n",
    "    plt.tight_layout()\n",
    "    if save == True:\n",
    "        plt.tight_layout()\n",
    "        plt.savefig(out + micro + '_' + str(ano) + '_' + iv + '.png',bbox_inches='tight', format='png')\n",
    "    else:\n",
    "        plt.show()\n",
    "        print L\n",
    "        "
   ]
  },
  {
   "cell_type": "code",
   "execution_count": 2,
   "metadata": {
    "collapsed": false
   },
   "outputs": [],
   "source": [
    "banco = 'dados/banco_diss.h5'\n",
    "out = '/home/denis/SPIDEROAK/dissertation/FcomparaboX/'"
   ]
  },
  {
   "cell_type": "code",
   "execution_count": 3,
   "metadata": {
    "collapsed": false
   },
   "outputs": [
    {
     "name": "stdout",
     "output_type": "stream",
     "text": [
      "-2\n"
     ]
    }
   ],
   "source": [
    "plotcompara('vci', 2002, 'NCP_Londrina', out)"
   ]
  },
  {
   "cell_type": "code",
   "execution_count": 3,
   "metadata": {
    "collapsed": false
   },
   "outputs": [],
   "source": [
    "import numpy as np\n",
    "ivs = ['ndvi','ndwi','ndi7','vci','evi']#'vhi','sdi'\n",
    "anos = [i for i in np.arange(2002,2004,1)]#2013\n",
    "micros = ['COCP_CampoM', 'COCP_Goioere', 'NCP_Apucarana', 'NCP_Faxinal',\n",
    "          'NCP_Florai','NCP_Ivaipora', 'NCP_Londrina', 'NCP_Maringa', 'NCP_Porecatu',\n",
    "          'NP_Assai', 'NP_CornelioP','OP_Cascavel', 'OP_Foz', 'OP_Toledo']\n",
    "            #'NP_Jacarezinho', 'NP_WenceslauB','NP_Ibaiti','NCP_Astorga',\n",
    "microshort = ['COCP_CampoM', 'COCP_Goioere','NCP_Ivaipora', 'NCP_Londrina']"
   ]
  },
  {
   "cell_type": "code",
   "execution_count": 33,
   "metadata": {
    "collapsed": false
   },
   "outputs": [],
   "source": [
    "for ano in anos:\n",
    "    for micro in microshort:\n",
    "        plotcompara('ndi7', ano, micro, out, True)"
   ]
  },
  {
   "cell_type": "code",
   "execution_count": null,
   "metadata": {
    "collapsed": false
   },
   "outputs": [],
   "source": []
  }
 ],
 "metadata": {
  "kernelspec": {
   "display_name": "Python 2",
   "language": "python",
   "name": "python2"
  },
  "language_info": {
   "codemirror_mode": {
    "name": "ipython",
    "version": 2
   },
   "file_extension": ".py",
   "mimetype": "text/x-python",
   "name": "python",
   "nbconvert_exporter": "python",
   "pygments_lexer": "ipython2",
   "version": "2.7.6"
  }
 },
 "nbformat": 4,
 "nbformat_minor": 0
}
