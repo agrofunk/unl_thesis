{
 "cells": [
  {
   "cell_type": "markdown",
   "metadata": {},
   "source": [
    "# Maximos e minimos diarios na sehrie"
   ]
  },
  {
   "cell_type": "code",
   "execution_count": 1,
   "metadata": {
    "collapsed": false
   },
   "outputs": [],
   "source": [
    "import glob, gdal, os\n",
    "import numpy as np\n",
    "import pandas as pd\n",
    "import bottleneck as bn"
   ]
  },
  {
   "cell_type": "code",
   "execution_count": 2,
   "metadata": {
    "collapsed": false
   },
   "outputs": [],
   "source": [
    "indice = 'lst' \n",
    "folder = '/media/denis/GEO/DROUGHT_processed/TERMAL/MxD11A2/day/' #FILTRADOS ou RAW\n",
    "foldermax = '/media/denis/GEO/DROUGHT_processed/TERMAL/MxD11A2/day_max/'\n",
    "foldermin = '/media/denis/GEO/DROUGHT_processed/TERMAL/MxD11A2/day_min/'\n",
    "if not os.path.exists(foldermax): os.makedirs(foldermax)\n",
    "if not os.path.exists(foldermin): os.makedirs(foldermin)"
   ]
  },
  {
   "cell_type": "code",
   "execution_count": 3,
   "metadata": {
    "collapsed": false
   },
   "outputs": [],
   "source": [
    "#lista de datas\n",
    "listadatas = []\n",
    "for j in glob.glob(folder + '*.tif'):\n",
    "    b = j.split('/')\n",
    "    c = b[-1][13:16]\n",
    "    listadatas.append(c)\n",
    "    listadatas.sort() \n",
    "#remove datas duplicadas\n",
    "listadatas = [ii for n,ii in enumerate(listadatas) if ii not in listadatas[:n]]\n",
    "\n",
    "#lista imagens\n",
    "lista = []\n",
    "for j in glob.glob(folder + '*.tif'):\n",
    "    b = j.split('/')\n",
    "    c = b[-1]\n",
    "    lista.append(c)\n",
    "    lista.sort()"
   ]
  },
  {
   "cell_type": "code",
   "execution_count": null,
   "metadata": {
    "collapsed": false
   },
   "outputs": [],
   "source": [
    "datum = gdal.Open(folder + lista[0])\n",
    "geo = datum.GetGeoTransform()\n",
    "proj = datum.GetProjection()\n",
    "col = datum.RasterYSize\n",
    "row = datum.RasterXSize\n",
    "shape = (row,col)\n",
    "driver = gdal.GetDriverByName( 'GTiff' )"
   ]
  },
  {
   "cell_type": "code",
   "execution_count": null,
   "metadata": {
    "collapsed": false
   },
   "outputs": [
    {
     "name": "stdout",
     "output_type": "stream",
     "text": [
      "Calculando lst máximo e minimo para o dia 001\n",
      "Calculando lst máximo e minimo para o dia 009\n",
      "Calculando lst máximo e minimo para o dia 017\n",
      "Calculando lst máximo e minimo para o dia 025\n",
      "Calculando lst máximo e minimo para o dia 033\n",
      "Calculando lst máximo e minimo para o dia 041\n",
      "Calculando lst máximo e minimo para o dia 049\n",
      "Calculando lst máximo e minimo para o dia 057"
     ]
    }
   ],
   "source": [
    "for data in listadatas:\n",
    "    toOpen = []\n",
    "    for i in lista:\n",
    "        if data == i[13:16]:\n",
    "            toOpen.append(i)\n",
    "            \n",
    "    arrays = []\n",
    "    for j in toOpen:\n",
    "        imagem = gdal.Open(folder + j).ReadAsArray()\n",
    "        imagem = np.where(imagem < 14000 , np.nan, imagem)#para LST:14000, para IV:-3\n",
    "        arrays.append(imagem)\n",
    "        arrays2 = np.dstack(arrays)  \n",
    "    \n",
    "    #cálculos \n",
    "    print 'Calculando ' + indice + ' máximo e minimo para o dia ' + data\n",
    "    maxima = bn.nanmax(arrays2, axis=2)\n",
    "    minima = bn.nanmin(arrays2, axis=2)\n",
    "    #Escrever saidas\n",
    "\n",
    "    #maxima\n",
    "    im_saida = driver.Create(foldermax + 'max' + data + '.tif', \n",
    "                             row, col, 1, gdal.GDT_Int16)\n",
    "    im_saida.SetGeoTransform(geo)\n",
    "    im_saida.SetProjection(proj)\n",
    "    im_saida.GetRasterBand(1).WriteArray(maxima)\n",
    "    im_saida = None\n",
    "\n",
    "    #minima\n",
    "    im_saida = driver.Create(foldermin + 'min' + data + '.tif', \n",
    "                             row, col, 1, gdal.GDT_Int16)#_Float32\n",
    "    im_saida.SetGeoTransform(geo)\n",
    "    im_saida.SetProjection(proj)\n",
    "    im_saida.GetRasterBand(1).WriteArray(minima)\n",
    "    im_saida = None\n",
    "\n",
    "        "
   ]
  },
  {
   "cell_type": "code",
   "execution_count": 6,
   "metadata": {
    "collapsed": false
   },
   "outputs": [],
   "source": []
  }
 ],
 "metadata": {
  "kernelspec": {
   "display_name": "Python 2",
   "language": "python",
   "name": "python2"
  },
  "language_info": {
   "codemirror_mode": {
    "name": "ipython",
    "version": 2
   },
   "file_extension": ".py",
   "mimetype": "text/x-python",
   "name": "python",
   "nbconvert_exporter": "python",
   "pygments_lexer": "ipython2",
   "version": "2.7.11+"
  }
 },
 "nbformat": 4,
 "nbformat_minor": 0
}
