{
 "cells": [
  {
   "cell_type": "code",
   "execution_count": null,
   "metadata": {
    "collapsed": false
   },
   "outputs": [],
   "source": [
    "import xuleta, os\n",
    "import numpy as np"
   ]
  },
  {
   "cell_type": "code",
   "execution_count": null,
   "metadata": {
    "collapsed": false
   },
   "outputs": [],
   "source": [
    "folder = '/media/denis/GEO/DROUGHT_processed/PRECIPITATION/monthly/'\n",
    "folderout = '/media/denis/GEO/DROUGHT_processed/PRECIPITATION/monthly_mean/'\n",
    "if not os.path.exists(folderout): os.makedirs(folderout)"
   ]
  },
  {
   "cell_type": "code",
   "execution_count": null,
   "metadata": {
    "collapsed": false
   },
   "outputs": [],
   "source": [
    "lista = xuleta.listfiles(folder)"
   ]
  },
  {
   "cell_type": "code",
   "execution_count": null,
   "metadata": {
    "collapsed": false
   },
   "outputs": [],
   "source": [
    "meses = ['01','02','03','04','05','06','07','08','09','10','11','12']"
   ]
  },
  {
   "cell_type": "code",
   "execution_count": null,
   "metadata": {
    "collapsed": false
   },
   "outputs": [],
   "source": [
    "for mes in meses:\n",
    "    toOpen = []\n",
    "    for mon in lista:\n",
    "        if mon[-6:-4] == mes:\n",
    "            toOpen.append(mon)\n",
    "    arrays = []\n",
    "    for j in toOpen:\n",
    "        imagem, meta = xuleta.TifToArray(folder+j)\n",
    "        imagem = np.where(imagem<0,np.nan,imagem)\n",
    "        arrays.append(imagem)\n",
    "        arrays2 = np.dstack(arrays)\n",
    "    \n",
    "    print 'calculando media do mes %s' %mes\n",
    "    xuleta.ArrayToTif(np.nanmean(arrays2, axis=2), 'mean'+mes, folderout, meta, Type=3)\n",
    "    xuleta.ArrayToTif(np.std(arrays2, axis=2), 'stdv'+mes, folderout, meta, Type=3)\n",
    "    toOpen, arrays, arrays2 = None, None, None"
   ]
  },
  {
   "cell_type": "code",
   "execution_count": null,
   "metadata": {
    "collapsed": false
   },
   "outputs": [],
   "source": [
    "folderz = '/media/denis/GEO/DROUGHT_processed/PRECIPITATION/monthly_z/'\n",
    "if not os.path.exists(folderz): os.makedirs(folderz)"
   ]
  },
  {
   "cell_type": "code",
   "execution_count": null,
   "metadata": {
    "collapsed": false
   },
   "outputs": [],
   "source": [
    "mean = xuleta.listfiles(folderout+'mean') \n",
    "stdv = xuleta.listfiles(folderout+'stdv') "
   ]
  },
  {
   "cell_type": "code",
   "execution_count": null,
   "metadata": {
    "collapsed": false
   },
   "outputs": [],
   "source": [
    "for mon in lista:\n",
    "    for mean_,stdv_ in zip(mean,stdv):\n",
    "        if mon[-6:-4] == mean_[-6:-4]:\n",
    "            imagem, meta = xuleta.TifToArray(folder+mon)\n",
    "            media, meta = xuleta.TifToArray(folderout+mean_)\n",
    "            desvpad, meta = xuleta.TifToArray(folderout+stdv_)\n",
    "            z = (imagem - media)/desvpad\n",
    "            print 'writing z-score for %s' %mon\n",
    "            xuleta.ArrayToTif(z, mon, folderz, meta, Type=3)\n",
    "        imagem, z, media, desvpad, meta = None, None, None, None, None"
   ]
  }
 ],
 "metadata": {
  "kernelspec": {
   "display_name": "Python 2",
   "language": "python",
   "name": "python2"
  },
  "language_info": {
   "codemirror_mode": {
    "name": "ipython",
    "version": 2
   },
   "file_extension": ".py",
   "mimetype": "text/x-python",
   "name": "python",
   "nbconvert_exporter": "python",
   "pygments_lexer": "ipython2",
   "version": "2.7.11+"
  }
 },
 "nbformat": 4,
 "nbformat_minor": 0
}
