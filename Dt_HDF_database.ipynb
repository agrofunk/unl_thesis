{
 "cells": [
  {
   "cell_type": "code",
   "execution_count": 1,
   "metadata": {
    "collapsed": false
   },
   "outputs": [],
   "source": [
    "import pandas as pd\n",
    "import xuleta, tables, os\n",
    "from pandas import HDFStore"
   ]
  },
  {
   "cell_type": "markdown",
   "metadata": {},
   "source": [
    "###Exportar as tabelas\n",
    "####Tem que criar as pastas de saída manualmente antes. Tenho que melhorar isso.\n"
   ]
  },
  {
   "cell_type": "code",
   "execution_count": null,
   "metadata": {
    "collapsed": false
   },
   "outputs": [],
   "source": [
    "#Abrir com o Pandas\n",
    "banco = 'dados/banco_diss.h5'\n",
    "saida = 'dados/from_hdf'\n",
    "hdf = HDFStore('dados/banco_diss.h5')\n",
    "tabelas = sorted(hdf.keys())\n",
    "hdf.close()"
   ]
  },
  {
   "cell_type": "code",
   "execution_count": null,
   "metadata": {
    "collapsed": false
   },
   "outputs": [],
   "source": [
    "for tabela in tabelas:\n",
    "    a = pd.read_hdf(banco,tabela)\n",
    "    a.to_csv('dados/from_hdf' + tabela + '.csv')"
   ]
  },
  {
   "cell_type": "markdown",
   "metadata": {},
   "source": [
    "###adicionar um folder de tabelas ou uma individual"
   ]
  },
  {
   "cell_type": "code",
   "execution_count": 2,
   "metadata": {
    "collapsed": false
   },
   "outputs": [],
   "source": [
    "hdf = HDFStore('dados/banco_diss.h5')"
   ]
  },
  {
   "cell_type": "code",
   "execution_count": null,
   "metadata": {
    "collapsed": false
   },
   "outputs": [],
   "source": [
    "#várias tabelas\n",
    "arquivos = xuleta.listfiles('dados/ivs_meso/', extension='*.csv', full=True)\n",
    "nomes = xuleta.listfiles('dados/ivs_meso/', extension='*.csv', full=False)\n",
    "for i,j in zip(nomes,arquivos):\n",
    "    hdf.put('ivs/meso/'+i[4:-4], pd.read_csv(j), format='table', data_columns=True,\n",
    "            complib=cl, complevel=9, expectedrows=1000)\n",
    "hdf.flush()"
   ]
  },
  {
   "cell_type": "code",
   "execution_count": null,
   "metadata": {
    "collapsed": false
   },
   "outputs": [],
   "source": [
    "hdf.remove('full_statistics2')"
   ]
  },
  {
   "cell_type": "code",
   "execution_count": 3,
   "metadata": {
    "collapsed": false
   },
   "outputs": [],
   "source": [
    "#uma única tabela\n",
    "hdf.put('base/meso/ndvi', pd.read_csv('dados/ndvi_meso_base.csv'), format='table', data_columns=True,\n",
    "            complib='lzo', complevel=9)\n",
    "hdf.put('base/meso/lswi', pd.read_csv('dados/lswi_meso_base.csv'), format='table', data_columns=True,\n",
    "            complib='lzo', complevel=9)"
   ]
  },
  {
   "cell_type": "code",
   "execution_count": 4,
   "metadata": {
    "collapsed": false
   },
   "outputs": [
    {
     "data": {
      "text/plain": [
       "(None, None)"
      ]
     },
     "execution_count": 4,
     "metadata": {},
     "output_type": "execute_result"
    }
   ],
   "source": [
    "hdf.flush(),hdf.close()"
   ]
  },
  {
   "cell_type": "markdown",
   "metadata": {},
   "source": [
    "####Alguns comandos"
   ]
  },
  {
   "cell_type": "code",
   "execution_count": null,
   "metadata": {
    "collapsed": false
   },
   "outputs": [],
   "source": [
    "#deletar uma pasta ou uma tabela\n",
    "hdf.remove('XX')"
   ]
  },
  {
   "cell_type": "code",
   "execution_count": null,
   "metadata": {
    "collapsed": false
   },
   "outputs": [],
   "source": [
    "#dar um dir\n",
    "sorted(hdf.keys())"
   ]
  },
  {
   "cell_type": "code",
   "execution_count": null,
   "metadata": {
    "collapsed": false
   },
   "outputs": [],
   "source": [
    "#finalizar o processo!\n",
    "hdf.flush()\n",
    "hdf.close()"
   ]
  },
  {
   "cell_type": "markdown",
   "metadata": {},
   "source": [
    "editando atributos com o PyTables\n",
    "------------\n",
    "https://pytables.github.io/usersguide/tutorials.html#setting-and-getting-user-attributes"
   ]
  },
  {
   "cell_type": "code",
   "execution_count": null,
   "metadata": {
    "collapsed": false
   },
   "outputs": [],
   "source": [
    "import tables\n",
    "hdf = tables.openFile('/home/denis/SPIDEROAK/IPYdissertation/dados/banco_diss.h5', 'a')"
   ]
  },
  {
   "cell_type": "code",
   "execution_count": null,
   "metadata": {
    "collapsed": false
   },
   "outputs": [],
   "source": [
    "hdf.root.ivs.micro.tci.table.attrs.TITLE = 'mean TCI for microregions'"
   ]
  },
  {
   "cell_type": "code",
   "execution_count": null,
   "metadata": {
    "collapsed": false
   },
   "outputs": [],
   "source": [
    "hdf.root.mann_kendal_meso.table.attrs.TITLE = 'Mann-Kendall test for mesoregions'\n",
    "hdf.root.ivs.meso.ndi7.table.attrs.TITLE = 'mean NDI7 for mesoregions'\n",
    "hdf.root.ivs.meso.lswi.table.attrs.TITLE = 'mean LSWI for mesoregions'\n",
    "hdf.root.ivs.meso.ndwi.table.attrs.TITLE = 'mean NDWI for mesoregions'\n",
    "hdf.root.ivs.meso.ndvi.table.attrs.TITLE = 'mean NDVI for mesoregions'\n",
    "hdf.root.ivs.meso.vhi.table.attrs.TITLE = 'mean VHI for mesoregions'\n",
    "hdf.root.ivs.meso.sdi.table.attrs.TITLE = 'mean SDI for mesoregions'\n",
    "hdf.root.ivs.meso.vci.table.attrs.TITLE = 'mean VCI for mesoregions'\n",
    "hdf.root.ivs.meso.evi.table.attrs.TITLE = 'mean EVI for mesoregions'"
   ]
  },
  {
   "cell_type": "code",
   "execution_count": null,
   "metadata": {
    "collapsed": false
   },
   "outputs": [],
   "source": [
    "hdf.root.ivs.micro.ndi7.table.attrs.TITLE = 'mean NDI7 for microregions'\n",
    "hdf.root.ivs.micro.lswi.table.attrs.TITLE = 'mean LSWI for microregions'\n",
    "hdf.root.ivs.micro.ndwi.table.attrs.TITLE = 'mean NDWI for microregions'\n",
    "hdf.root.ivs.micro.ndvi.table.attrs.TITLE = 'mean NDVI for microregions'\n",
    "hdf.root.ivs.micro.vhi.table.attrs.TITLE = 'mean VHI for microregions'\n",
    "hdf.root.ivs.micro.sdi.table.attrs.TITLE = 'mean SDI for microregions'\n",
    "hdf.root.ivs.micro.vci.table.attrs.TITLE = 'mean VCI for microregions'\n",
    "hdf.root.ivs.micro.evi.table.attrs.TITLE = 'mean EVI for microregions'"
   ]
  },
  {
   "cell_type": "code",
   "execution_count": null,
   "metadata": {
    "collapsed": false
   },
   "outputs": [],
   "source": [
    "hdf.root.ivs.microdif.ndi7.table.attrs.TITLE = 'NDI7 difference between season and base'\n",
    "hdf.root.ivs.microdif.lswi.table.attrs.TITLE = 'LSWI difference between season and base'\n",
    "hdf.root.ivs.microdif.ndwi.table.attrs.TITLE = 'NDWI difference between season and base'\n",
    "hdf.root.ivs.microdif.ndvi.table.attrs.TITLE = 'NDVI difference between season and base'\n",
    "hdf.root.ivs.microdif.evi.table.attrs.TITLE = 'EVI difference between season and base'"
   ]
  },
  {
   "cell_type": "code",
   "execution_count": null,
   "metadata": {
    "collapsed": false
   },
   "outputs": [],
   "source": [
    "hdf.root.spi3_difs.table.attrs.TITLE = 'monthly precipitation and SPI3, IVs difference, season and base'"
   ]
  },
  {
   "cell_type": "code",
   "execution_count": null,
   "metadata": {
    "collapsed": false
   },
   "outputs": [],
   "source": [
    "hdf.root.datas_min_micro.table.attrs.TITLE = 'summer minimum dates by year for microrregions'"
   ]
  },
  {
   "cell_type": "code",
   "execution_count": null,
   "metadata": {
    "collapsed": false
   },
   "outputs": [],
   "source": [
    "hdf.root.prec_pr.table.attrs.TITLE = '8-day PERSIANN precipitation for Parana microregions'"
   ]
  },
  {
   "cell_type": "code",
   "execution_count": null,
   "metadata": {
    "collapsed": false
   },
   "outputs": [],
   "source": [
    "hdf.root.full_statistics.table.attrs.TITLE = 'Final statistics for IVs, SPI3, prec, yield and more'"
   ]
  },
  {
   "cell_type": "code",
   "execution_count": null,
   "metadata": {
    "collapsed": false
   },
   "outputs": [],
   "source": [
    "hdf.flush();hdf.close()"
   ]
  },
  {
   "cell_type": "code",
   "execution_count": null,
   "metadata": {
    "collapsed": false
   },
   "outputs": [],
   "source": [
    "hdf.close()"
   ]
  },
  {
   "cell_type": "code",
   "execution_count": null,
   "metadata": {
    "collapsed": false
   },
   "outputs": [],
   "source": []
  }
 ],
 "metadata": {
  "kernelspec": {
   "display_name": "Python 2",
   "language": "python",
   "name": "python2"
  },
  "language_info": {
   "codemirror_mode": {
    "name": "ipython",
    "version": 2
   },
   "file_extension": ".py",
   "mimetype": "text/x-python",
   "name": "python",
   "nbconvert_exporter": "python",
   "pygments_lexer": "ipython2",
   "version": "2.7.11+"
  }
 },
 "nbformat": 4,
 "nbformat_minor": 0
}
